{
  "nbformat": 4,
  "nbformat_minor": 0,
  "metadata": {
    "colab": {
      "provenance": [],
      "authorship_tag": "ABX9TyOlNaLxITzTwVIlGFyPb6sf",
      "include_colab_link": true
    },
    "kernelspec": {
      "name": "python3",
      "display_name": "Python 3"
    },
    "language_info": {
      "name": "python"
    }
  },
  "cells": [
    {
      "cell_type": "markdown",
      "metadata": {
        "id": "view-in-github",
        "colab_type": "text"
      },
      "source": [
        "<a href=\"https://colab.research.google.com/github/salmeronale/metodos-numericos/blob/main/Polinomio_interpolante_newton.ipynb\" target=\"_parent\"><img src=\"https://colab.research.google.com/assets/colab-badge.svg\" alt=\"Open In Colab\"/></a>"
      ]
    },
    {
      "cell_type": "code",
      "execution_count": 14,
      "metadata": {
        "id": "I9AVA4dqwBzv"
      },
      "outputs": [],
      "source": [
        "import numpy as np\n",
        "import matplotlib.pyplot as plt\n",
        "import scipy.special as sp\n",
        "#importar las librerías que se usan"
      ]
    },
    {
      "cell_type": "code",
      "source": [
        "n = int(input(\"Ingresa el número de datos: \")) #pregunar cuantas parejas ordenadas de datos se tienen en la tabla"
      ],
      "metadata": {
        "colab": {
          "base_uri": "https://localhost:8080/"
        },
        "id": "2bTiJKQewO1i",
        "outputId": "2418e897-71ac-4339-d46a-a930b0c576d5"
      },
      "execution_count": 18,
      "outputs": [
        {
          "name": "stdout",
          "output_type": "stream",
          "text": [
            "Ingresa el número de datos: 6\n"
          ]
        }
      ]
    },
    {
      "cell_type": "code",
      "source": [
        "#crear los arreglos para almacenar los datos de x y f(x)\n",
        "X=np.array([])\n",
        "Y=np.array([])\n",
        "\n",
        "#crear un ciclo para pedir los datos\n",
        "for i in range(n):\n",
        "    x = float(input(f\"Ingresa el valor de x{i+1}: \"))\n",
        "    y = float(input(f\"Ingresa el valor de f(x{i+1}): \"))\n",
        "    X=np.append(X,x) #almacenar los datos de x\n",
        "    Y=np.append(Y,y) #almacenar los datos de y\n",
        "\n",
        "#print(X)\n",
        "#print(Y)"
      ],
      "metadata": {
        "colab": {
          "base_uri": "https://localhost:8080/"
        },
        "id": "GnaIjE5fwpID",
        "outputId": "76e75bc4-0c51-4b43-8555-b473f5f955c8"
      },
      "execution_count": 19,
      "outputs": [
        {
          "output_type": "stream",
          "name": "stdout",
          "text": [
            "Ingresa el valor de x1: 0\n",
            "Ingresa el valor de f(x1): -5\n",
            "Ingresa el valor de x2: 1\n",
            "Ingresa el valor de f(x2): 1\n",
            "Ingresa el valor de x3: 2\n",
            "Ingresa el valor de f(x3): 9\n",
            "Ingresa el valor de x4: 3\n",
            "Ingresa el valor de f(x4): 25\n",
            "Ingresa el valor de x5: 4\n",
            "Ingresa el valor de f(x5): 55\n",
            "Ingresa el valor de x6: 5\n",
            "Ingresa el valor de f(x6): 105\n",
            "[0. 1. 2. 3. 4. 5.]\n",
            "[ -5.   1.   9.  25.  55. 105.]\n"
          ]
        }
      ]
    },
    {
      "cell_type": "code",
      "source": [
        "diferencia = Y #inicializar los datos con y o f(x)\n",
        "nivel = 0 #inicializar contador de diferencias (deltay1, deltay2, etc)\n",
        "deltas = {}\n",
        "\n",
        "# Ciclo while que se repite hasta que la lista de diferencia esté vacía o tenga una suma de 0\n",
        "while len(diferencia) > 1 and np.any(diferencia):\n",
        "    diferencia = np.diff(diferencia)  # Calcula la diferencia entre elementos consecutivos\n",
        "    deltas[f\"deltay{nivel+1}\"] = diferencia  # Guarda la lista de diferencias en el diccionario\n",
        "    nivel += 1  # Incrementa el nivel de diferencia\n",
        "\n",
        "# Para verificar las listas almacenadas\n",
        "print(f\"las diferencias (deltas de y) son: {deltas}\")\n",
        "\n",
        "grado=nivel - 1 #determinar el grado del polinomio dependiendo los deltas\n",
        "print(f\"el polinomio será de grado {grado} porque las diferencias se hacen 0 en deltay{nivel}\")"
      ],
      "metadata": {
        "colab": {
          "base_uri": "https://localhost:8080/"
        },
        "id": "4FoTR6x6yjq_",
        "outputId": "07881010-2417-4942-ba74-b8ec4d4113fa"
      },
      "execution_count": 55,
      "outputs": [
        {
          "output_type": "stream",
          "name": "stdout",
          "text": [
            "las diferencias (deltas de y) son: {'deltay1': array([ 6.,  8., 16., 30., 50.]), 'deltay2': array([ 2.,  8., 14., 20.]), 'deltay3': array([6., 6., 6.]), 'deltay4': array([0., 0.])}\n",
            "el polinomio será de grado 3 porque las diferencias se hacen 0 en deltay4\n"
          ]
        }
      ]
    },
    {
      "cell_type": "code",
      "source": [
        "m=int(input(\"ingrese el número de valores que desea interpolar: \"))\n",
        "XI=np.array([])\n",
        "YI=np.array([])\n",
        "for i in range(m):\n",
        "  #pedir xk\n",
        "  xk=float(input(\"ingresar el valor de x el cual desea saber f(x): \"))\n",
        "\n",
        "  #seleccionar x0\n",
        "  menores_a_xk = [x for x in X if x < xk]\n",
        "  if menores_a_xk:\n",
        "    # Encontrar el elemento menor a xk más cercano\n",
        "    x0 = min(menores_a_xk, key=lambda x: abs(x - xk))\n",
        "    ii = np.where(X == x0)[0][0] #ubicar índice de x0 porque se ocupa más adelante\n",
        "  print(f\"x0={x0}\")\n",
        "\n",
        "  #calcular h\n",
        "  H=np.diff(X) #calcular la diferencia de los x\n",
        "  if np.all(H == H[0]):\n",
        "    h = float(H[0])\n",
        "  else:\n",
        "    print(\"la diferencias de los x son diferentes, favor de ingresar de nuevo los valores\")\n",
        "\n",
        "    #calcular k\n",
        "  k=(xk - x0)/h\n",
        "  print(f\"k={k}\")\n",
        "\n",
        "  #calcular los coeficientes binomiales\n",
        "  B=np.array([]) #crear arreglo para almacenar los datos\n",
        "  for i in range(grado): #range  = grado del polinomio porque así es la formula del polinomio de newton\n",
        "    bin=sp.binom(k,i+1) #calcular cada coeficiente binomial\n",
        "    B=np.append(B,bin)\n",
        " # print(B)\n",
        "\n",
        "  #POLINOMIO DE NEWTON\n",
        "  suma=0 #inicializar la suma\n",
        "  for i in range(grado):\n",
        "    clave = f'deltay{i+1}'  # Genera la clave\n",
        "    deltay = deltas[clave]\n",
        "    mult = B[i] * deltay[ii]\n",
        " # print(deltay)\n",
        " # print(mult)\n",
        "    suma+=mult\n",
        "\n",
        "#calcular f(xk):\n",
        "  yk= Y[ii] + suma\n",
        "  print(f\"f({xk})={yk}\")\n",
        "\n",
        "  XI=np.append(XI,xk) #almacenar los datos de interpolación de x\n",
        "  YI=np.append(YI,yk) #almacenar los datos de interpolación de y\n",
        "\n",
        "  print(\"------------------------------------------\")"
      ],
      "metadata": {
        "colab": {
          "base_uri": "https://localhost:8080/"
        },
        "id": "PqvSlIHiPOuT",
        "outputId": "bc667fcc-6c0b-4570-cb31-1ad2d4a71874"
      },
      "execution_count": 82,
      "outputs": [
        {
          "output_type": "stream",
          "name": "stdout",
          "text": [
            "ingrese el número de valores que desea interpolar: 4\n",
            "ingresar el valor de x el cual desea saber f(x): 0.4\n",
            "x0=0.0\n",
            "k=0.4\n",
            "f(0.4)=-2.456000000000001\n",
            "------------------------------------------\n",
            "ingresar el valor de x el cual desea saber f(x): 1.3\n",
            "x0=1.0\n",
            "k=0.30000000000000004\n",
            "f(1.3)=2.9170000000000007\n",
            "------------------------------------------\n",
            "ingresar el valor de x el cual desea saber f(x): 1.8\n",
            "x0=1.0\n",
            "k=0.8\n",
            "f(1.8)=6.952000000000001\n",
            "------------------------------------------\n",
            "ingresar el valor de x el cual desea saber f(x): 2.5\n",
            "x0=2.0\n",
            "k=0.5\n",
            "f(2.5)=15.625\n",
            "------------------------------------------\n"
          ]
        }
      ]
    },
    {
      "cell_type": "code",
      "source": [
        "#calcular la función\n",
        "from scipy.interpolate import interp1d #importar la librería necesaria\n",
        "x_interp = np.linspace(0, 5, 50)\n",
        "# Crear una función de interpolación\n",
        "interpolacion = interp1d(X, Y, kind='cubic')  # kind='cubic' para interpolación cúbica porque grado del polinomio fue 3 (modificar después dependiendo el grado)\n",
        "\n",
        "# Calcular los valores interpolados\n",
        "y_interp = interpolacion(x_interp)"
      ],
      "metadata": {
        "id": "C-TUznsMUldJ"
      },
      "execution_count": 93,
      "outputs": []
    },
    {
      "cell_type": "code",
      "source": [
        "#Graficamos los datos\n",
        "plt.scatter(X,Y, color=\"orange\", label=\"puntos originales\", marker='o')\n",
        "plt.scatter(XI,YI, color=\"purple\", label=\"puntos interpolados\", marker='*')\n",
        "plt.plot(x_interp, y_interp, '-', label=\"función interpolada\")\n",
        "plt.title(\"gráfica\")\n",
        "plt.xlabel(\"x\")\n",
        "plt.ylabel(\"f(x)\")\n",
        "plt.grid(color=\"gray\")\n",
        "plt.legend()\n",
        "plt.show()"
      ],
      "metadata": {
        "colab": {
          "base_uri": "https://localhost:8080/",
          "height": 472
        },
        "id": "nWplQzftObGe",
        "outputId": "04e5725d-2b40-4584-9fb8-7919c5621d6d"
      },
      "execution_count": 92,
      "outputs": [
        {
          "output_type": "display_data",
          "data": {
            "text/plain": [
              "<Figure size 640x480 with 1 Axes>"
            ],
            "image/png": "[encoded data removed]"
          },
          "metadata": {}
        }
      ]
    }
  ]
}