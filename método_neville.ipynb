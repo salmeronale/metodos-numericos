{
  "nbformat": 4,
  "nbformat_minor": 0,
  "metadata": {
    "colab": {
      "provenance": [],
      "authorship_tag": "ABX9TyOsry82nM9bR5YoBg5m2ndj",
      "include_colab_link": true
    },
    "kernelspec": {
      "name": "python3",
      "display_name": "Python 3"
    },
    "language_info": {
      "name": "python"
    }
  },
  "cells": [
    {
      "cell_type": "markdown",
      "metadata": {
        "id": "view-in-github",
        "colab_type": "text"
      },
      "source": [
        "<a href=\"https://colab.research.google.com/github/salmeronale/metodos-numericos/blob/main/m%C3%A9todo_neville.ipynb\" target=\"_parent\"><img src=\"https://colab.research.google.com/assets/colab-badge.svg\" alt=\"Open In Colab\"/></a>"
      ]
    },
    {
      "cell_type": "code",
      "execution_count": 13,
      "metadata": {
        "id": "G4TEjGK1CIxp"
      },
      "outputs": [],
      "source": [
        "import numpy as np"
      ]
    },
    {
      "cell_type": "code",
      "source": [
        "def construir_tabla_diferencias(x, f):\n",
        "\n",
        "    n = len(x)\n",
        "    Q = np.zeros((n, n))\n",
        "    Q[:, 0] = f  # Primera columna de la tabla\n",
        "\n",
        "    # Construcción de la tabla Q\n",
        "    for i in range(1, n):\n",
        "        for j in range(1, i + 1):\n",
        "            Q[i, j] = ((x[i] - x[i - j]) * Q[i, j - 1] - (x[i] - x[i]) * Q[i - 1, j - 1]) / (x[i] - x[i - j])\n",
        "\n",
        "    return Q\n",
        "\n"
      ],
      "metadata": {
        "id": "e2QXUYaaCoDv"
      },
      "execution_count": 14,
      "outputs": []
    },
    {
      "cell_type": "code",
      "source": [
        "def evaluar_polinomio(x, Q, valor):\n",
        "\n",
        "    n = len(x)\n",
        "    P = Q[0, 0]  # Inicializa con el término constante\n",
        "\n",
        "    # Evaluación del polinomio usando las diferencias divididas\n",
        "    producto = 1\n",
        "    for i in range(1, n):\n",
        "        producto *= (valor - x[i - 1])\n",
        "        P += Q[i, i] * producto\n",
        "\n",
        "    return P"
      ],
      "metadata": {
        "id": "6xfs36NT-CMR"
      },
      "execution_count": 15,
      "outputs": []
    },
    {
      "cell_type": "code",
      "source": [
        "# Ejemplo de uso\n",
        "x = [1.0, 1.3, 1.6, 1.9, 2.2]\n",
        "f = [0.7651977, 0.6200860, 0.4554022, 0.2818186, 0.1103623]\n",
        "\n",
        "tabla = construir_tabla_diferencias(x, f)\n",
        "\n",
        "valor = 1.5  # Punto donde se desea evaluar P(x)\n",
        "resultado = evaluar_polinomio(x, tabla, valor)\n",
        "\n",
        "print(\"Tabla de diferencias divididas:\")\n",
        "print(tabla)\n",
        "print(f\"El valor de P({valor}) es: {resultado}\")"
      ],
      "metadata": {
        "colab": {
          "base_uri": "https://localhost:8080/"
        },
        "id": "tNkIPDbkC4Ce",
        "outputId": "83c3fcfa-6d1e-40b5-f621-1a0f626fed64"
      },
      "execution_count": 16,
      "outputs": [
        {
          "output_type": "stream",
          "name": "stdout",
          "text": [
            "Tabla de diferencias divididas:\n",
            "[[0.7651977 0.        0.        0.        0.       ]\n",
            " [0.620086  0.620086  0.        0.        0.       ]\n",
            " [0.4554022 0.4554022 0.4554022 0.        0.       ]\n",
            " [0.2818186 0.2818186 0.2818186 0.2818186 0.       ]\n",
            " [0.1103623 0.1103623 0.1103623 0.1103623 0.1103623]]\n",
            "El valor de P(1.5) es: 1.1184041831999998\n"
          ]
        }
      ]
    }
  ]
}