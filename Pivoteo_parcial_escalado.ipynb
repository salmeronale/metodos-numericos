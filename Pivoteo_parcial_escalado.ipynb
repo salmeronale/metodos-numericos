{
  "nbformat": 4,
  "nbformat_minor": 0,
  "metadata": {
    "colab": {
      "provenance": [],
      "authorship_tag": "ABX9TyMIQ3/X9QnyG0Ml5JRprs3W",
      "include_colab_link": true
    },
    "kernelspec": {
      "name": "python3",
      "display_name": "Python 3"
    },
    "language_info": {
      "name": "python"
    }
  },
  "cells": [
    {
      "cell_type": "markdown",
      "metadata": {
        "id": "view-in-github",
        "colab_type": "text"
      },
      "source": [
        "<a href=\"https://colab.research.google.com/github/salmeronale/metodos-numericos/blob/main/Pivoteo_parcial_escalado.ipynb\" target=\"_parent\"><img src=\"https://colab.research.google.com/assets/colab-badge.svg\" alt=\"Open In Colab\"/></a>"
      ]
    },
    {
      "cell_type": "code",
      "source": [
        "import numpy as np"
      ],
      "metadata": {
        "id": "sP3ZKnTr_oH2"
      },
      "execution_count": 21,
      "outputs": []
    },
    {
      "cell_type": "code",
      "execution_count": 22,
      "metadata": {
        "id": "1q0AVv37BJMI"
      },
      "outputs": [],
      "source": [
        "#definir la función del proceso de pivoteo parcial escalado\n",
        "def ppe(A, b):\n",
        "\n",
        "    n = len(A)\n",
        "    A = A.astype(float)\n",
        "    b = b.astype(float)\n",
        "\n",
        "    #escalas para cada fila\n",
        "    escala = np.max(np.abs(A), axis=1)\n",
        "\n",
        "    print(\"matriz inicial:\")\n",
        "    print(A)\n",
        "    print(\"vector independiente inicial:\")\n",
        "    print(b)\n",
        "\n",
        "    #recorremos las columnas\n",
        "    for k in range(n - 1):\n",
        "        #selección del pivote escalado\n",
        "        razones = np.abs(A[k:n, k]) / escala[k:n]\n",
        "        max_index = np.argmax(razones) + k\n",
        "\n",
        "        #intercambiamos filas si es necesario\n",
        "        if max_index != k:\n",
        "            A[[k, max_index]] = A[[max_index, k]]\n",
        "            b[[k, max_index]] = b[[max_index, k]]\n",
        "            escala[[k, max_index]] = escala[[max_index, k]]\n",
        "\n",
        "        print(f\"\\nmatriz después del intercambio en la columna {k+1}:\")\n",
        "        print(A)\n",
        "        print(\"vector independiente:\")\n",
        "        print(b)\n",
        "\n",
        "        #proceso de eliminación gaussiana\n",
        "        for i in range(k + 1, n):\n",
        "            factor = A[i, k] / A[k, k]\n",
        "            A[i, k:] -= factor * A[k, k:]\n",
        "            b[i] -= factor * b[k]\n",
        "\n",
        "        print(f\"\\nmatriz después de la eliminación en la columna {k+1}:\")\n",
        "        print(A)\n",
        "        print(\"vector independiente:\")\n",
        "        print(b)\n",
        "\n",
        "    #proceso de sustitución hacia atrás\n",
        "    x = np.zeros(n)\n",
        "    for i in range(n - 1, -1, -1):\n",
        "        x[i] = (b[i] - np.dot(A[i, i + 1:], x[i + 1:])) / A[i, i]\n",
        "\n",
        "    print(\"\\nmatriz triangular superior:\")\n",
        "    print(A)\n",
        "    print(\"vector independiente final:\")\n",
        "    print(b)\n",
        "\n",
        "    return x"
      ]
    },
    {
      "cell_type": "code",
      "source": [
        "#definir una función para solicitar los datos\n",
        "def datos():\n",
        "\n",
        "    n = int(input(\"ingrese el número de ecuaciones: \"))\n",
        "    m = n + 1\n",
        "\n",
        "    print(\"ingrese los coeficientes de la matriz aumentada dejando solo un espacio en blanco como separación :\")\n",
        "    matriz_aumentada = []\n",
        "    for i in range(n):\n",
        "        fila = list(map(float, input(f\"Fila {i + 1}: \").split()))\n",
        "        if len(fila) != m:\n",
        "            raise ValueError(f\"cada fila debe tener exactamente {m} valores.\")\n",
        "        matriz_aumentada.append(fila)\n",
        "\n",
        "    matriz_aumentada = np.array(matriz_aumentada)\n",
        "    A = matriz_aumentada[:, :-1]\n",
        "    b = matriz_aumentada[:, -1]\n",
        "\n",
        "    return A, b"
      ],
      "metadata": {
        "id": "jdIz1XJl6xSS"
      },
      "execution_count": 23,
      "outputs": []
    },
    {
      "cell_type": "code",
      "source": [
        "#emplear ambas funciones\n",
        "try:\n",
        "    A, b = datos()\n",
        "    solucion = ppe(A, b)\n",
        "    print(\"\")\n",
        "    print(\"la olución es:\", solucion)\n",
        "except Exception as e:\n",
        "    print(\"Error:\", e)"
      ],
      "metadata": {
        "colab": {
          "base_uri": "https://localhost:8080/"
        },
        "id": "VBf5xu5MAvsJ",
        "outputId": "6ccae254-45de-4455-b59a-559bda01a3c1"
      },
      "execution_count": 25,
      "outputs": [
        {
          "output_type": "stream",
          "name": "stdout",
          "text": [
            "ingrese el número de ecuaciones: 3\n",
            "ingrese los coeficientes de la matriz aumentada dejando solo un espacio en blanco como separación :\n",
            "Fila 1: 2.11 -4.21 0.921 2.01\n",
            "Fila 2: 4.01 10.2 -1.12 -3.09\n",
            "Fila 3: 1.09 0.987 0.832 4.21\n",
            "matriz inicial:\n",
            "[[ 2.11  -4.21   0.921]\n",
            " [ 4.01  10.2   -1.12 ]\n",
            " [ 1.09   0.987  0.832]]\n",
            "vector independiente inicial:\n",
            "[ 2.01 -3.09  4.21]\n",
            "\n",
            "matriz después del intercambio en la columna 1:\n",
            "[[ 1.09   0.987  0.832]\n",
            " [ 4.01  10.2   -1.12 ]\n",
            " [ 2.11  -4.21   0.921]]\n",
            "vector independiente:\n",
            "[ 4.21 -3.09  2.01]\n",
            "\n",
            "matriz después de la eliminación en la columna 1:\n",
            "[[ 1.09        0.987       0.832     ]\n",
            " [ 0.          6.56892661 -4.18084404]\n",
            " [ 0.         -6.12061468 -0.68956881]]\n",
            "vector independiente:\n",
            "[  4.21       -18.57816514  -6.13963303]\n",
            "\n",
            "matriz después del intercambio en la columna 2:\n",
            "[[ 1.09        0.987       0.832     ]\n",
            " [ 0.         -6.12061468 -0.68956881]\n",
            " [ 0.          6.56892661 -4.18084404]]\n",
            "vector independiente:\n",
            "[  4.21        -6.13963303 -18.57816514]\n",
            "\n",
            "matriz después de la eliminación en la columna 2:\n",
            "[[ 1.09000000e+00  9.87000000e-01  8.32000000e-01]\n",
            " [ 0.00000000e+00 -6.12061468e+00 -6.89568807e-01]\n",
            " [ 0.00000000e+00  8.88178420e-16 -4.92092116e+00]]\n",
            "vector independiente:\n",
            "[  4.21        -6.13963303 -25.16750311]\n",
            "\n",
            "matriz triangular superior:\n",
            "[[ 1.09000000e+00  9.87000000e-01  8.32000000e-01]\n",
            " [ 0.00000000e+00 -6.12061468e+00 -6.89568807e-01]\n",
            " [ 0.00000000e+00  8.88178420e-16 -4.92092116e+00]]\n",
            "vector independiente final:\n",
            "[  4.21        -6.13963303 -25.16750311]\n",
            "\n",
            "la olución es: [-0.42800441  0.42690323  5.11438861]\n"
          ]
        }
      ]
    }
  ]
}