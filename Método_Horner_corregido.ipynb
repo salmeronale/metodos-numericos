{
  "nbformat": 4,
  "nbformat_minor": 0,
  "metadata": {
    "colab": {
      "provenance": [],
      "authorship_tag": "ABX9TyOe0YWeSm1CtvsbxAynkTl2",
      "include_colab_link": true
    },
    "kernelspec": {
      "name": "python3",
      "display_name": "Python 3"
    },
    "language_info": {
      "name": "python"
    }
  },
  "cells": [
    {
      "cell_type": "markdown",
      "metadata": {
        "id": "view-in-github",
        "colab_type": "text"
      },
      "source": [
        "<a href=\"https://colab.research.google.com/github/salmeronale/metodos-numericos/blob/main/M%C3%A9todo_Horner_corregido.ipynb\" target=\"_parent\"><img src=\"https://colab.research.google.com/assets/colab-badge.svg\" alt=\"Open In Colab\"/></a>"
      ]
    },
    {
      "cell_type": "code",
      "execution_count": 17,
      "metadata": {
        "id": "U5M5g2ObF5Cm"
      },
      "outputs": [],
      "source": [
        "#definir los coeficientes en una lista para poder hacer el método de horner\n",
        "coefs = [2, 0, -3, 3, -4]  # Coeficientes del polinomio P(x) = x^3 - 6x^2 + 11x - 6"
      ]
    },
    {
      "cell_type": "code",
      "source": [
        "#definir la función que ejecute el método de horner o división sintética\n",
        "def horner(coefs, x):\n",
        "    n = len(coefs) - 1\n",
        "    p = coefs[0]\n",
        "    dp = coefs[0]\n",
        "    for i in range(1, n + 1):\n",
        "        p = p * x + coefs[i]\n",
        "        if i < n:\n",
        "            dp = dp * x + p\n",
        "    return p, dp"
      ],
      "metadata": {
        "id": "QVX9SHHqGA8P"
      },
      "execution_count": 18,
      "outputs": []
    },
    {
      "cell_type": "code",
      "source": [
        "#definir los datos de entrada\n",
        "p0 = 2 #aproximación inicial\n",
        "tol = 0.001 #exactitud\n",
        "nmax = 100\n",
        "error = 100\n",
        "i = 1"
      ],
      "metadata": {
        "id": "dLQjj2etlSyT"
      },
      "execution_count": 19,
      "outputs": []
    },
    {
      "cell_type": "code",
      "source": [
        "#imprimir el encabezado de la tabla\n",
        "print(f\"{'i':^10} {'p':^15} {'g(p)':^15}  {'f´(p)':^15}{'error':^15}\")\n",
        "print(\"-\" * 70)\n",
        "\n",
        "#crear el ciclo while condicionado\n",
        "while error > tol and i <= nmax:\n",
        "    fx, gx = horner(coefs, p0)\n",
        "\n",
        "    if gx == 0:\n",
        "        print(\"la derivada es cero, no se puede continuar.\")\n",
        "        break\n",
        "\n",
        "    p = p0 - (fx / gx)  #fórmula del método de Newton\n",
        "    error = abs(p - p0)  #calcular el error\n",
        "    p0 = p  #atualizamos p0 para la nueva iteración\n",
        "    i += 1\n",
        "    #imprimir la fila de la iteración actual\n",
        "    print(f\"{i:^10} {p:^15.8f} {fx:^15.8f} {gx:^15.8f} {error:^15.8f}\")\n",
        "print(\" \")\n",
        "print(f\"La raíz de la función es {p:6.7f}\")"
      ],
      "metadata": {
        "colab": {
          "base_uri": "https://localhost:8080/"
        },
        "id": "uMvbz4Dxfxmv",
        "outputId": "6415d54e-d7fc-48a2-82d3-4ac499088d44"
      },
      "execution_count": 20,
      "outputs": [
        {
          "output_type": "stream",
          "name": "stdout",
          "text": [
            "    i             p             g(p)             f´(p)          error     \n",
            "----------------------------------------------------------------------\n",
            "    2        1.60000000      22.00000000     55.00000000     0.40000000   \n",
            "    3        1.36202996      6.22720000      26.16800000     0.23797004   \n",
            "    4        1.26870980      1.40369512      15.04171355     0.09332016   \n",
            "    5        1.25514568      0.15903816      11.72491279     0.01356412   \n",
            "    6        1.25488198      0.00297655      11.28788426     0.00026369   \n",
            " \n",
            "La raíz de la función es 1.2548820\n"
          ]
        }
      ]
    }
  ]
}