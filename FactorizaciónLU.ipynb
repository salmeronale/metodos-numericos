{
  "nbformat": 4,
  "nbformat_minor": 0,
  "metadata": {
    "colab": {
      "provenance": [],
      "authorship_tag": "ABX9TyOSQkXfApOZH/KObsoG5JUQ",
      "include_colab_link": true
    },
    "kernelspec": {
      "name": "python3",
      "display_name": "Python 3"
    },
    "language_info": {
      "name": "python"
    }
  },
  "cells": [
    {
      "cell_type": "markdown",
      "metadata": {
        "id": "view-in-github",
        "colab_type": "text"
      },
      "source": [
        "<a href=\"https://colab.research.google.com/github/salmeronale/metodos-numericos/blob/main/Factorizaci%C3%B3nLU.ipynb\" target=\"_parent\"><img src=\"https://colab.research.google.com/assets/colab-badge.svg\" alt=\"Open In Colab\"/></a>"
      ]
    },
    {
      "cell_type": "code",
      "source": [
        "import numpy as np"
      ],
      "metadata": {
        "id": "jr38HT7n03YN"
      },
      "execution_count": 3,
      "outputs": []
    },
    {
      "cell_type": "code",
      "execution_count": 4,
      "metadata": {
        "id": "i3gv7gMFvUuu"
      },
      "outputs": [],
      "source": [
        "#definir una función que ejecute el algoritmo de factorización LU\n",
        "def fLU(A):\n",
        "    n = A.shape[0]  # Dimensión de la matriz\n",
        "\n",
        "    # Inicializar matrices L y U\n",
        "    L = np.eye(n)  # Diagonal de L como 1\n",
        "    U = np.zeros((n, n))\n",
        "\n",
        "    for i in range(n):\n",
        "        # Paso 4: Calcular valores de la diagonal\n",
        "        sum_diag = sum(L[i, k] * U[k, i] for k in range(i))\n",
        "        U[i, i] = A[i, i] - sum_diag\n",
        "\n",
        "        if U[i, i] == 0:\n",
        "            print(\"Factorización imposible: A es singular o no admite factorización LU.\")\n",
        "            return None, None\n",
        "\n",
        "        L[i, i] = 1  # La diagonal de L es 1 por definición\n",
        "\n",
        "        # Paso 2 y Paso 5: Calcular elementos fuera de la diagonal\n",
        "        for j in range(i + 1, n):\n",
        "            # Elementos de la fila i de U\n",
        "            sum_u = sum(L[i, k] * U[k, j] for k in range(i))\n",
        "            U[i, j] = (A[i, j] - sum_u) / L[i, i]\n",
        "\n",
        "            # Elementos de la columna i de L\n",
        "            sum_l = sum(L[j, k] * U[k, i] for k in range(i))\n",
        "            L[j, i] = (A[j, i] - sum_l) / U[i, i]\n",
        "\n",
        "    return L, U"
      ]
    },
    {
      "cell_type": "code",
      "source": [
        "# Ejecución de la fución para resolver el ejemplo 2 de la página 301\n",
        "A = np.array([[1, 1, 0, 3],\n",
        "              [2, 1, -1, 1],\n",
        "              [3, -1, -1, 2],\n",
        "              [-1, 2, 3, -1]], dtype=float) #matriz A\n",
        "\n",
        "L, U = fLU(A) # llamar a la función\n",
        "\n",
        "if L is not None and U is not None:\n",
        "    print(\"Matriz L:\")\n",
        "    print(L)\n",
        "    print(\"\\nMatriz U:\")\n",
        "    print(U)\n",
        "\n",
        "    # Verificación: A = L * U\n",
        "    print(\"\\nVerificación A = L * U:\")\n",
        "    print(np.dot(L, U))"
      ],
      "metadata": {
        "colab": {
          "base_uri": "https://localhost:8080/"
        },
        "id": "T5HrZr3V1fNv",
        "outputId": "63faabd6-323e-433b-9716-6acf294329bd"
      },
      "execution_count": 5,
      "outputs": [
        {
          "output_type": "stream",
          "name": "stdout",
          "text": [
            "Matriz L:\n",
            "[[ 1.  0.  0.  0.]\n",
            " [ 2.  1.  0.  0.]\n",
            " [ 3.  4.  1.  0.]\n",
            " [-1. -3.  0.  1.]]\n",
            "\n",
            "Matriz U:\n",
            "[[  1.   1.   0.   3.]\n",
            " [  0.  -1.  -1.  -5.]\n",
            " [  0.   0.   3.  13.]\n",
            " [  0.   0.   0. -13.]]\n",
            "\n",
            "Verificación A = L * U:\n",
            "[[ 1.  1.  0.  3.]\n",
            " [ 2.  1. -1.  1.]\n",
            " [ 3. -1. -1.  2.]\n",
            " [-1.  2.  3. -1.]]\n"
          ]
        }
      ]
    }
  ]
}