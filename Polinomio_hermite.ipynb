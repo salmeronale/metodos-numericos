{
  "nbformat": 4,
  "nbformat_minor": 0,
  "metadata": {
    "colab": {
      "provenance": [],
      "authorship_tag": "ABX9TyO3bK8JIjDMQV1cZkhK3yQp",
      "include_colab_link": true
    },
    "kernelspec": {
      "name": "python3",
      "display_name": "Python 3"
    },
    "language_info": {
      "name": "python"
    }
  },
  "cells": [
    {
      "cell_type": "markdown",
      "metadata": {
        "id": "view-in-github",
        "colab_type": "text"
      },
      "source": [
        "<a href=\"https://colab.research.google.com/github/salmeronale/metodos-numericos/blob/main/Polinomio_hermite.ipynb\" target=\"_parent\"><img src=\"https://colab.research.google.com/assets/colab-badge.svg\" alt=\"Open In Colab\"/></a>"
      ]
    },
    {
      "cell_type": "code",
      "execution_count": 23,
      "metadata": {
        "id": "L7KbpfPSdmas"
      },
      "outputs": [],
      "source": [
        "# definir la función para llenar la tabla\n",
        "def hermite(x, fx, dfx):\n",
        "\n",
        "    n = len(x)\n",
        "    z = [0] * (2 * n)\n",
        "    Q = [[0] * (2 * n) for _ in range(2 * n)]\n",
        "\n",
        "    # construir z y llenar la primera columna de Q\n",
        "    for i in range(n):\n",
        "        z[2 * i] = x[i]\n",
        "        z[2 * i + 1] = x[i]\n",
        "        Q[2 * i][0] = fx[i]\n",
        "        Q[2 * i + 1][0] = fx[i]\n",
        "        Q[2 * i + 1][1] = dfx[i]\n",
        "        if i > 0:\n",
        "            Q[2 * i][1] = (Q[2 * i][0] - Q[2 * i - 1][0]) / (z[2 * i] - z[2 * i - 1])\n",
        "\n",
        "    # calcular las columnas restantes de Q\n",
        "    for j in range(2, 2 * n):\n",
        "        for i in range(j, 2 * n):\n",
        "            Q[i][j] = (Q[i][j - 1] - Q[i - 1][j - 1]) / (z[i] - z[i - j]) #fórmula de diferencias divididas\n",
        "\n",
        "    return Q, z"
      ]
    },
    {
      "cell_type": "code",
      "source": [
        "# datos de entrada\n",
        "x = [1.3, 1.6, 1.9]  # puntos xi (n)\n",
        "fx = [0.6200860, 0.4554022, 0.2818186]  # valores f(xi)\n",
        "dfx = [-0.5220232, -0.5698959, -0.5811571]  # valores f'(xi)\n",
        "\n",
        "Q, z = hermite(x, fx, dfx)\n",
        "\n",
        "# mostrar los coeficientes Q\n",
        "print(\"tabla de diferencias divididas para hermite:\")\n",
        "print(\" \")\n",
        "print(f\"{'f(z)':^10} {'1 DD':^10} {'2 DD':^15} {'3 DD':^17} {'4 DD':^17} {'5 DD':^17} {'6 DD':^20}\")\n",
        "print(\"-\" * 115)   #imprimir encabezado de la tabla\n",
        "for row in Q:\n",
        "    print(row)"
      ],
      "metadata": {
        "colab": {
          "base_uri": "https://localhost:8080/"
        },
        "id": "0jnjX0HufhSM",
        "outputId": "f3d02178-c730-42de-9ca8-0b73c6d275a1"
      },
      "execution_count": 24,
      "outputs": [
        {
          "output_type": "stream",
          "name": "stdout",
          "text": [
            "tabla de diferencias divididas para hermite:\n",
            " \n",
            "   f(z)       1 DD         2 DD             3 DD              4 DD              5 DD                6 DD        \n",
            "-------------------------------------------------------------------------------------------------------------------\n",
            "[0.620086, 0, 0, 0, 0, 0]\n",
            "[0.620086, -0.5220232, 0, 0, 0, 0]\n",
            "[0.4554022, -0.548946, -0.08974266666666673, 0, 0, 0]\n",
            "[0.4554022, -0.5698959, -0.06983299999999988, 0.06636555555555616, 0, 0]\n",
            "[0.2818186, -0.5786120000000003, -0.02905366666666781, 0.06796555555555346, 0.002666666666662164, 0]\n",
            "[0.2818186, -0.5811571, -0.008483666666665451, 0.06856666666667456, 0.0010018518518685, -0.0027746913579894407]\n"
          ]
        }
      ]
    },
    {
      "cell_type": "code",
      "source": [
        "def evaluate_hermite_polynomial(Q, z, x_eval):\n",
        "\n",
        "    n = len(z)\n",
        "    H = Q[0][0]  # inicia con Q0,0 por la fórmula\n",
        "    product_term = 1.0  # producto acumulativo (x - x0)(x - x1)...\n",
        "\n",
        "    for i in range(1, n):\n",
        "        product_term *= (x_eval - z[i - 1])  # calcula el término acumulativo\n",
        "        H += Q[i][i] * product_term  # suma el término correspondiente\n",
        "\n",
        "    return H\n",
        "\n",
        "\n",
        "# evaluación del punto 1.5\n",
        "x_eval = 1.5  # punto donde evaluaremos el polinomio\n",
        "H_val = evaluate_hermite_polynomial(Q, z, x_eval)\n",
        "\n",
        "print(f\"el valor del polinomio de Hermite en x = {x_eval} es: {H_val}\")\n"
      ],
      "metadata": {
        "colab": {
          "base_uri": "https://localhost:8080/"
        },
        "id": "Ixd46BaAgU71",
        "outputId": "2c4fb29a-2527-42ad-9a2b-8b65731a3ffa"
      },
      "execution_count": 25,
      "outputs": [
        {
          "output_type": "stream",
          "name": "stdout",
          "text": [
            "el valor del polinomio de Hermite en x = 1.5 es: 0.5118277017283951\n"
          ]
        }
      ]
    }
  ]
}