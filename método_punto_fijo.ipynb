{
  "nbformat": 4,
  "nbformat_minor": 0,
  "metadata": {
    "colab": {
      "provenance": [],
      "authorship_tag": "ABX9TyMM7CtbN+v1zTCFA5yi1g/C",
      "include_colab_link": true
    },
    "kernelspec": {
      "name": "python3",
      "display_name": "Python 3"
    },
    "language_info": {
      "name": "python"
    }
  },
  "cells": [
    {
      "cell_type": "markdown",
      "metadata": {
        "id": "view-in-github",
        "colab_type": "text"
      },
      "source": [
        "<a href=\"https://colab.research.google.com/github/salmeronale/metodos-numericos/blob/main/m%C3%A9todo_punto_fijo.ipynb\" target=\"_parent\"><img src=\"https://colab.research.google.com/assets/colab-badge.svg\" alt=\"Open In Colab\"/></a>"
      ]
    },
    {
      "cell_type": "code",
      "execution_count": 2,
      "metadata": {
        "id": "cnzB2UeiIDuh"
      },
      "outputs": [],
      "source": [
        "import math"
      ]
    },
    {
      "cell_type": "code",
      "source": [
        "#DEFINIR LA FUNCION\n",
        "#la función original es (x^3 - x - 1) pero como no cumple con las\n",
        "#características para el método de punto fijo, se ha transformado\n",
        "#a la forma siguiente: x = (x + 1)^(1/3), despejando x^3.\n",
        "g = lambda p: (p + 1)**(1/3)\n"
      ],
      "metadata": {
        "id": "jSY1OGSxIiir"
      },
      "execution_count": 17,
      "outputs": []
    },
    {
      "cell_type": "code",
      "source": [
        "#entrada\n",
        "p0 = 1    #aproximación inicial (dado el intervalo [1,2])\n",
        "TOL = 0.01  #tolerancia del error\n",
        "N0 = 100    #número máximo de iteraciones"
      ],
      "metadata": {
        "id": "PVtKtG80JFc4"
      },
      "execution_count": 32,
      "outputs": []
    },
    {
      "cell_type": "code",
      "source": [],
      "metadata": {
        "id": "x-z2qmDGJ-gi"
      },
      "execution_count": 24,
      "outputs": []
    },
    {
      "cell_type": "code",
      "source": [
        "#paso 1: inicializar contador de iteraciones\n",
        "i = 1\n",
        "\n",
        "#mprimir encabezado de la tabla\n",
        "print(f\"{'i':^10} {'p':^15} {'g(p)':^15} {'Error':^15}\")\n",
        "print(\"-\" * 55)\n",
        "\n",
        "while i <= N0:\n",
        "  p = g(p0)\n",
        "\n",
        "  error = abs(p - p0) #calcular el error\n",
        "\n",
        "  #Imprimir la fila de la iteración actual\n",
        "  print(f\"{i:^10} {p0:^15.8f} {p:^15.8f} {error:^15.8f}\")\n",
        "\n",
        "  #paso 4: verificar si el error es menor que la tolerancia\n",
        "  if error < TOL:\n",
        "    print(f\"el método fue exitoso después de {i} iteraciones.\")\n",
        "    print(f\"la aproximación de la raíz es: {p}\")\n",
        "    break  #si el método tiene éxito, se termina bucle\n",
        "\n",
        "  #paso 5: (si aún no se aproxima, crear otra iteración)\n",
        "  i += 1\n",
        "\n",
        "  #paso 6: actualizar p0 con el nuevo valor de p\n",
        "  p0 = p"
      ],
      "metadata": {
        "colab": {
          "base_uri": "https://localhost:8080/"
        },
        "id": "dJ-f-oEeKB7I",
        "outputId": "558f97ed-a5f9-4a04-de67-87b155b35746"
      },
      "execution_count": 38,
      "outputs": [
        {
          "output_type": "stream",
          "name": "stdout",
          "text": [
            "    i             p             g(p)            Error     \n",
            "-------------------------------------------------------\n",
            "    1        1.00000000      1.25992105      0.25992105   \n",
            "    2        1.25992105      1.31229384      0.05237279   \n",
            "    3        1.31229384      1.32235382      0.01005998   \n",
            "    4        1.32235382      1.32426874      0.00191493   \n",
            "el método fue exitoso después de 4 iteraciones.\n",
            "la aproximación de la raíz es: 1.324268744551578\n"
          ]
        }
      ]
    },
    {
      "cell_type": "code",
      "source": [
        "# Paso 7: si el número de iteraciones se excedió, el método falló\n",
        "if i > N0:\n",
        "    print(f\"El método falló después de {N0} iteraciones.\")"
      ],
      "metadata": {
        "id": "uVVpOnqjLucw"
      },
      "execution_count": 28,
      "outputs": []
    }
  ]
}