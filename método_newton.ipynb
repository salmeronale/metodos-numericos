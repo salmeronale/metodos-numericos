{
  "nbformat": 4,
  "nbformat_minor": 0,
  "metadata": {
    "colab": {
      "provenance": [],
      "authorship_tag": "ABX9TyPS4ze6MQyZ+E/oWcmjHxbF",
      "include_colab_link": true
    },
    "kernelspec": {
      "name": "python3",
      "display_name": "Python 3"
    },
    "language_info": {
      "name": "python"
    }
  },
  "cells": [
    {
      "cell_type": "markdown",
      "metadata": {
        "id": "view-in-github",
        "colab_type": "text"
      },
      "source": [
        "<a href=\"https://colab.research.google.com/github/salmeronale/metodos-numericos/blob/main/m%C3%A9todo_newton.ipynb\" target=\"_parent\"><img src=\"https://colab.research.google.com/assets/colab-badge.svg\" alt=\"Open In Colab\"/></a>"
      ]
    },
    {
      "cell_type": "code",
      "execution_count": 1,
      "metadata": {
        "id": "zEdw2IWOLQ-5"
      },
      "outputs": [],
      "source": [
        "import math"
      ]
    },
    {
      "cell_type": "code",
      "source": [
        "#DEFINIR LA FUNCION\n",
        "g = lambda p: p**3 - p - 1 #función original (x^3 - x - 1)\n",
        "h = lambda p: 3*(p**2) - 1 #derivada de la función (3x^2 - 1)"
      ],
      "metadata": {
        "id": "oqYoFX4eOwX9"
      },
      "execution_count": 2,
      "outputs": []
    },
    {
      "cell_type": "code",
      "source": [
        "#entrada\n",
        "p0 = 1    #aproximación inicial (dado el intervalo [1,2])\n",
        "TOL = 0.01  #tolerancia del error\n",
        "N0 = 100    #número máximo de iteraciones"
      ],
      "metadata": {
        "id": "vvXx6LeqPyn7"
      },
      "execution_count": 3,
      "outputs": []
    },
    {
      "cell_type": "code",
      "source": [
        "#paso 1: inicializar contador de iteraciones\n",
        "i = 1\n",
        "p0=1\n",
        "\n",
        "#mprimir encabezado de la tabla\n",
        "print(f\"{'i':^10} {'Pn-1':^15} {'g(Pn-1)':^15} {'g´(Pn-1)':^15} {'Pn':^15} {'Error':^15}\")\n",
        "print(\"-\" * 90)\n",
        "\n",
        "while i <= N0:\n",
        "  p = p0 - (g(p0)/h(p0)) #encontrar Pn con la fórmula del método de Newton\n",
        "\n",
        "  error = abs(p - p0) #calcular el error\n",
        "\n",
        "  #Imprimir la fila de la iteración actual\n",
        "  print(f\"{i:^10} {p0:^15.8f} {g(p0):^15.8f} {h(p0):^15.8f} {p:^15.8f} {error:^15.8f}\")\n",
        "\n",
        "  #paso 4: verificar si el error es menor que la tolerancia\n",
        "  if error < TOL:\n",
        "    print(f\"el método fue exitoso después de {i} iteraciones.\")\n",
        "    print(f\"la aproximación de la raíz es: {p}\")\n",
        "    break  #si el método tiene éxito, se termina bucle\n",
        "\n",
        "  #paso 5: (si aún no se aproxima, crear otra iteración)\n",
        "  i += 1\n",
        "\n",
        "  #paso 6: actualizar p0 con el nuevo valor de p\n",
        "  p0 = p"
      ],
      "metadata": {
        "colab": {
          "base_uri": "https://localhost:8080/"
        },
        "id": "zjoyGe-EPzw4",
        "outputId": "23442444-e552-4059-911b-eace5ba3940a"
      },
      "execution_count": 11,
      "outputs": [
        {
          "output_type": "stream",
          "name": "stdout",
          "text": [
            "    i           Pn-1           g(Pn-1)        g´(Pn-1)           Pn             Error     \n",
            "------------------------------------------------------------------------------------------\n",
            "    1        1.00000000      -1.00000000     2.00000000      1.50000000      0.50000000   \n",
            "    2        1.50000000      0.87500000      5.75000000      1.34782609      0.15217391   \n",
            "    3        1.34782609      0.10068217      4.44990548      1.32520040      0.02262569   \n",
            "    4        1.32520040      0.00205836      4.26846829      1.32471817      0.00048222   \n",
            "el método fue exitoso después de 4 iteraciones.\n",
            "la aproximación de la raíz es: 1.3247181739990537\n"
          ]
        }
      ]
    }
  ]
}