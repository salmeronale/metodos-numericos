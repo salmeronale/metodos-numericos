{
  "nbformat": 4,
  "nbformat_minor": 0,
  "metadata": {
    "colab": {
      "provenance": [],
      "authorship_tag": "ABX9TyO6szP+ZpsUlSKfivjrtXRo",
      "include_colab_link": true
    },
    "kernelspec": {
      "name": "python3",
      "display_name": "Python 3"
    },
    "language_info": {
      "name": "python"
    }
  },
  "cells": [
    {
      "cell_type": "markdown",
      "metadata": {
        "id": "view-in-github",
        "colab_type": "text"
      },
      "source": [
        "<a href=\"https://colab.research.google.com/github/salmeronale/metodos-numericos/blob/main/m%C3%A9todo_steffensen.ipynb\" target=\"_parent\"><img src=\"https://colab.research.google.com/assets/colab-badge.svg\" alt=\"Open In Colab\"/></a>"
      ]
    },
    {
      "cell_type": "code",
      "source": [
        "import math #la ecuación a resolver utiliza un coseno"
      ],
      "metadata": {
        "id": "PGNdH-wWmyF5"
      },
      "execution_count": 17,
      "outputs": []
    },
    {
      "cell_type": "code",
      "source": [
        "def g(x):\n",
        "    #definir la función g(x) que se utilizará para aproximar la solución\n",
        "  return math.cos(x) - 2*x + 3"
      ],
      "metadata": {
        "id": "XgctX5ZEm2EF"
      },
      "execution_count": 18,
      "outputs": []
    },
    {
      "cell_type": "code",
      "source": [
        "#parámetros de entrada\n",
        "p0 = 1.0  #aproximación inicial\n",
        "TOL = 0.00001  #tolerancia\n",
        "N0 = 100  #número máximo de iteraciones"
      ],
      "metadata": {
        "id": "Qkq9u3jFm83C"
      },
      "execution_count": 19,
      "outputs": []
    },
    {
      "cell_type": "code",
      "execution_count": 22,
      "metadata": {
        "colab": {
          "base_uri": "https://localhost:8080/"
        },
        "id": "vHR27-srVnj1",
        "outputId": "11d6fb6d-a8ed-44e1-dbf1-c85cee2aed37"
      },
      "outputs": [
        {
          "output_type": "stream",
          "name": "stdout",
          "text": [
            "    i            p0              p1              p2             Error     \n",
            "----------------------------------------------------------------------\n",
            "    1        1.00000000      1.54030231      -0.05011532     0.13700843   \n",
            "    2        1.13700843      1.14629403      1.11927925      0.00237525   \n",
            "    3        1.13938367      1.13938709      1.13937715      0.00000088   \n",
            "la solución aproximada es: 1.1393845482908054 con 3 iteraciones\n"
          ]
        }
      ],
      "source": [
        "#imprimir el encabezado de la tabla donde se muestran las iteraciones\n",
        "print(f\"{'i':^10} {'p0':^15} {'p1':^15} {'p2':^15} {'Error':^15}\")\n",
        "print(\"-\" * 70)\n",
        "\n",
        "#definir una función que ejecute el método steffensen\n",
        "def steffensen(g, p0, TOL, N0):\n",
        "    #paso 1: iniciar el contador de iteraciones\n",
        "    i = 1\n",
        "\n",
        "    #paso 2: ciclo while para las iteraciones\n",
        "    while i <= N0:\n",
        "        #paso 3: calcular p1 y p2 con p0 dado anteriormente\n",
        "        p1 = g(p0)\n",
        "        p2 = g(p1)\n",
        "\n",
        "        #calcular p usando la fórmula de Steffensen\n",
        "        p = p0 - (p1 - p0)**2 / (p2 - 2 * p1 + p0)\n",
        "\n",
        "        #paso 4: calcular el error\n",
        "        error=abs(p - p0)\n",
        "\n",
        "        #imprimir la fila correspondiente a la iteración\n",
        "        print(f\"{i:^10} {p0:^15.8f} {p1:^15.8f} {p2:^15.8f} {error:^15.8f}\")\n",
        "\n",
        "        #verificar si la aproximación es la deseada\n",
        "        if  error < TOL:\n",
        "            return p, i\n",
        "\n",
        "        #paso 5: si aún no es el error solicitado, aumentar el contador de iteraciones\n",
        "        i += 1\n",
        "\n",
        "        #paso 6: actualizar p0 para la siguiente iteración\n",
        "        p0 = p\n",
        "\n",
        "    #paso 7: si no funcionó el método, imprimir un mensaje de error\n",
        "    return f'el método falló después de {N0} iteraciones.', None\n",
        "\n",
        "#ejecutar el método de Steffensen\n",
        "resultado, iteraciones = steffensen(g, p0, TOL, N0)\n",
        "print(f'la solución aproximada es: {resultado} con {iteraciones} iteraciones')\n",
        "\n"
      ]
    },
    {
      "cell_type": "code",
      "source": [],
      "metadata": {
        "id": "jp2ungpplKGl"
      },
      "execution_count": null,
      "outputs": []
    }
  ]
}