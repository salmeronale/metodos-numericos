{
  "nbformat": 4,
  "nbformat_minor": 0,
  "metadata": {
    "colab": {
      "provenance": [],
      "authorship_tag": "ABX9TyNpCV6BklmcRGBj2GLyjxy0",
      "include_colab_link": true
    },
    "kernelspec": {
      "name": "python3",
      "display_name": "Python 3"
    },
    "language_info": {
      "name": "python"
    }
  },
  "cells": [
    {
      "cell_type": "markdown",
      "metadata": {
        "id": "view-in-github",
        "colab_type": "text"
      },
      "source": [
        "<a href=\"https://colab.research.google.com/github/salmeronale/metodos-numericos/blob/main/eliminaci%C3%B3n_gaussiana.ipynb\" target=\"_parent\"><img src=\"https://colab.research.google.com/assets/colab-badge.svg\" alt=\"Open In Colab\"/></a>"
      ]
    },
    {
      "cell_type": "code",
      "source": [
        "import numpy as np"
      ],
      "metadata": {
        "id": "C7yKamfUSFK3"
      },
      "execution_count": 4,
      "outputs": []
    },
    {
      "cell_type": "code",
      "source": [
        "#definir una función del proceso\n",
        "def eliminacion_gaussiana(A, b):\n",
        "\n",
        "    n = len(A)\n",
        "    A = A.astype(float)\n",
        "    b = b.astype(float)\n",
        "\n",
        "    print(\"matriz inicial:\")\n",
        "    print(A)\n",
        "    print(\"vector independiente inicial:\")\n",
        "    print(b)\n",
        "\n",
        "    #recorrer las columnas\n",
        "    for k in range(n - 1):\n",
        "        #verificar si el pivote es 0 y realizar intercambio de filas si es necesario\n",
        "        if A[k, k] == 0:\n",
        "            for i in range(k + 1, n):\n",
        "                if A[i, k] != 0:\n",
        "                    A[[k, i]] = A[[i, k]]\n",
        "                    b[[k, i]] = b[[i, k]]\n",
        "                    print(f\"\\nintercambio de filas {k} y {i} por pivote 0:\")\n",
        "                    print(A)\n",
        "                    print(\"vector independiente:\")\n",
        "                    print(b)\n",
        "                    break\n",
        "            else:\n",
        "                raise ValueError(\"no se puede resolver: el sistema tiene un pivote 0 en la columna actual y no es posible intercambiar filas.\")\n",
        "\n",
        "        #eliminación gaussiana\n",
        "        for i in range(k + 1, n):\n",
        "            factor = A[i, k] / A[k, k]\n",
        "            A[i, k:] -= factor * A[k, k:]\n",
        "            b[i] -= factor * b[k]\n",
        "\n",
        "        print(f\"\\nmatriz después de la eliminación en la columna {k+1}:\")\n",
        "        print(A)\n",
        "        print(\"vector independiente:\")\n",
        "        print(b)\n",
        "\n",
        "    #sustitución hacia atrás\n",
        "    x = np.zeros(n)\n",
        "    for i in range(n - 1, -1, -1):\n",
        "        x[i] = (b[i] - np.dot(A[i, i + 1:], x[i + 1:])) / A[i, i]\n",
        "\n",
        "    print(\"\\nmatriz triangular superior:\")\n",
        "    print(A)\n",
        "    print(\"vector independiente final:\")\n",
        "    print(b)\n",
        "\n",
        "    return x"
      ],
      "metadata": {
        "id": "NiuFcG8HSjlR"
      },
      "execution_count": 5,
      "outputs": []
    },
    {
      "cell_type": "code",
      "execution_count": 6,
      "metadata": {
        "id": "Y8iOUPvCOcpd"
      },
      "outputs": [],
      "source": [
        "#definir una función para solicitar los datos\n",
        "def datos():\n",
        "\n",
        "    n = int(input(\"ingrese el número de ecuaciones: \"))\n",
        "    m = n + 1\n",
        "\n",
        "    print(\"ingrese los coeficientes de la matriz aumentada (separados por un espacio en blanco):\")\n",
        "    matriz_aumentada = []\n",
        "    for i in range(n):\n",
        "        fila = list(map(float, input(f\"Fila {i + 1}: \").split()))\n",
        "        if len(fila) != m:\n",
        "            raise ValueError(f\"cada fila debe tener exactamente {m} valores.\")\n",
        "        matriz_aumentada.append(fila)\n",
        "\n",
        "    matriz_aumentada = np.array(matriz_aumentada)\n",
        "    A = matriz_aumentada[:, :-1]\n",
        "    b = matriz_aumentada[:, -1]\n",
        "\n",
        "    return A, b\n"
      ]
    },
    {
      "cell_type": "code",
      "source": [
        "# ejecución de las funciones\n",
        "try:\n",
        "    A, b = datos()\n",
        "    solucion = eliminacion_gaussiana(A, b)\n",
        "    print(\"\")\n",
        "    print(\"la solución es:\", solucion)\n",
        "except Exception as e:\n",
        "    print(\"Error:\", e)\n",
        "\n"
      ],
      "metadata": {
        "colab": {
          "base_uri": "https://localhost:8080/"
        },
        "id": "o6EPd2ejS4Nk",
        "outputId": "5e32ccd3-321e-46ae-a064-ab5391b7d8c7"
      },
      "execution_count": 10,
      "outputs": [
        {
          "output_type": "stream",
          "name": "stdout",
          "text": [
            "ingrese el número de ecuaciones: 4\n",
            "ingrese los coeficientes de la matriz aumentada (separados por un espacio en blanco):\n",
            "Fila 1: 1 -1 2 -1 -8\n",
            "Fila 2: 2 -2 3 -3 -20\n",
            "Fila 3: 1 1 1 0 -2\n",
            "Fila 4: 1 -1 4 3 4\n",
            "matriz inicial:\n",
            "[[ 1. -1.  2. -1.]\n",
            " [ 2. -2.  3. -3.]\n",
            " [ 1.  1.  1.  0.]\n",
            " [ 1. -1.  4.  3.]]\n",
            "vector independiente inicial:\n",
            "[ -8. -20.  -2.   4.]\n",
            "\n",
            "matriz después de la eliminación en la columna 1:\n",
            "[[ 1. -1.  2. -1.]\n",
            " [ 0.  0. -1. -1.]\n",
            " [ 0.  2. -1.  1.]\n",
            " [ 0.  0.  2.  4.]]\n",
            "vector independiente:\n",
            "[-8. -4.  6. 12.]\n",
            "\n",
            "intercambio de filas 1 y 2 por pivote 0:\n",
            "[[ 1. -1.  2. -1.]\n",
            " [ 0.  2. -1.  1.]\n",
            " [ 0.  0. -1. -1.]\n",
            " [ 0.  0.  2.  4.]]\n",
            "vector independiente:\n",
            "[-8.  6. -4. 12.]\n",
            "\n",
            "matriz después de la eliminación en la columna 2:\n",
            "[[ 1. -1.  2. -1.]\n",
            " [ 0.  2. -1.  1.]\n",
            " [ 0.  0. -1. -1.]\n",
            " [ 0.  0.  2.  4.]]\n",
            "vector independiente:\n",
            "[-8.  6. -4. 12.]\n",
            "\n",
            "matriz después de la eliminación en la columna 3:\n",
            "[[ 1. -1.  2. -1.]\n",
            " [ 0.  2. -1.  1.]\n",
            " [ 0.  0. -1. -1.]\n",
            " [ 0.  0.  0.  2.]]\n",
            "vector independiente:\n",
            "[-8.  6. -4.  4.]\n",
            "\n",
            "matriz triangular superior:\n",
            "[[ 1. -1.  2. -1.]\n",
            " [ 0.  2. -1.  1.]\n",
            " [ 0.  0. -1. -1.]\n",
            " [ 0.  0.  0.  2.]]\n",
            "vector independiente final:\n",
            "[-8.  6. -4.  4.]\n",
            "\n",
            "la solución es: [-7.  3.  2.  2.]\n"
          ]
        }
      ]
    }
  ]
}