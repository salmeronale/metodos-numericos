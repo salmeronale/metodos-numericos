{
  "nbformat": 4,
  "nbformat_minor": 0,
  "metadata": {
    "colab": {
      "provenance": [],
      "authorship_tag": "ABX9TyNH/r32UIFx61YH7O0rU0UT",
      "include_colab_link": true
    },
    "kernelspec": {
      "name": "python3",
      "display_name": "Python 3"
    },
    "language_info": {
      "name": "python"
    }
  },
  "cells": [
    {
      "cell_type": "markdown",
      "metadata": {
        "id": "view-in-github",
        "colab_type": "text"
      },
      "source": [
        "<a href=\"https://colab.research.google.com/github/salmeronale/metodos-numericos/blob/main/pivoteo_parcial.ipynb\" target=\"_parent\"><img src=\"https://colab.research.google.com/assets/colab-badge.svg\" alt=\"Open In Colab\"/></a>"
      ]
    },
    {
      "cell_type": "code",
      "source": [
        "import numpy as np"
      ],
      "metadata": {
        "id": "n9EuPSaYFvXp"
      },
      "execution_count": 2,
      "outputs": []
    },
    {
      "cell_type": "code",
      "source": [
        "#definir la función para llevar a cabo el proceso\n",
        "def pivoteo_parcial(A, b):\n",
        "\n",
        "    n = len(A)\n",
        "    A = A.astype(float)\n",
        "    b = b.astype(float)\n",
        "\n",
        "    print(\"matriz inicial:\")\n",
        "    print(A)\n",
        "    print(\"vector independiente inicial:\")\n",
        "    print(b)\n",
        "\n",
        "    #recorremos las columnas\n",
        "    for k in range(n - 1):\n",
        "        #selección del pivote (máximo absoluto en la columna)\n",
        "        max_index = np.argmax(np.abs(A[k:n, k])) + k\n",
        "\n",
        "        #intercambiamos filas si es necesario\n",
        "        if max_index != k:\n",
        "            A[[k, max_index]] = A[[max_index, k]]\n",
        "            b[[k, max_index]] = b[[max_index, k]]\n",
        "\n",
        "        print(f\"\\nmatriz después del intercambio en la columna {k+1}:\")\n",
        "        print(A)\n",
        "        print(\"vector independiente:\")\n",
        "        print(b)\n",
        "\n",
        "        # proceso de eliminación gaussiana\n",
        "        for i in range(k + 1, n):\n",
        "            factor = A[i, k] / A[k, k]\n",
        "            A[i, k:] -= factor * A[k, k:]\n",
        "            b[i] -= factor * b[k]\n",
        "\n",
        "        print(f\"\\nmatriz después de la eliminación en la columna {k+1}:\")\n",
        "        print(A)\n",
        "        print(\"vector independiente:\")\n",
        "        print(b)\n",
        "\n",
        "    #sustitución hacia atrás\n",
        "    x = np.zeros(n)\n",
        "    for i in range(n - 1, -1, -1):\n",
        "        x[i] = (b[i] - np.dot(A[i, i + 1:], x[i + 1:])) / A[i, i]\n",
        "\n",
        "    print(\"\\nmatriz triangular superior:\")\n",
        "    print(A)\n",
        "    print(\"vector independiente final:\")\n",
        "    print(b)\n",
        "\n",
        "    return x"
      ],
      "metadata": {
        "id": "7tjfBWN-Garg"
      },
      "execution_count": 3,
      "outputs": []
    },
    {
      "cell_type": "code",
      "source": [
        "#definir una función para solicitar los datos del sistema a resolver\n",
        "def datos():\n",
        "\n",
        "    n = int(input(\"ingrese el número de ecuaciones: \"))\n",
        "    m = n + 1\n",
        "\n",
        "    print(\"ingrese los coeficientes de la matriz aumentada (separados por un espacio en blanco):\")\n",
        "    matriz_aumentada = []\n",
        "    for i in range(n):\n",
        "        fila = list(map(float, input(f\"Fila {i + 1}: \").split()))\n",
        "        if len(fila) != m:\n",
        "            raise ValueError(f\"cada fila debe tener exactamente {m} valores.\")\n",
        "        matriz_aumentada.append(fila)\n",
        "\n",
        "    matriz_aumentada = np.array(matriz_aumentada)\n",
        "    A = matriz_aumentada[:, :-1]\n",
        "    b = matriz_aumentada[:, -1]\n",
        "\n",
        "    return A, b"
      ],
      "metadata": {
        "id": "Va5OSpq3GyTn"
      },
      "execution_count": 4,
      "outputs": []
    },
    {
      "cell_type": "code",
      "execution_count": 6,
      "metadata": {
        "colab": {
          "base_uri": "https://localhost:8080/"
        },
        "id": "whdfXki9FR8g",
        "outputId": "61264541-58e1-4ddd-b974-fc8744d08f3a"
      },
      "outputs": [
        {
          "output_type": "stream",
          "name": "stdout",
          "text": [
            "ingrese el número de ecuaciones: 2\n",
            "ingrese los coeficientes de la matriz aumentada (separados por un espacio en blanco):\n",
            "Fila 1: 0.003 59.14 59.17\n",
            "Fila 2: 5.291 -6.13 46.78\n",
            "matriz inicial:\n",
            "[[ 3.000e-03  5.914e+01]\n",
            " [ 5.291e+00 -6.130e+00]]\n",
            "vector independiente inicial:\n",
            "[59.17 46.78]\n",
            "\n",
            "matriz después del intercambio en la columna 1:\n",
            "[[ 5.291e+00 -6.130e+00]\n",
            " [ 3.000e-03  5.914e+01]]\n",
            "vector independiente:\n",
            "[46.78 59.17]\n",
            "\n",
            "matriz después de la eliminación en la columna 1:\n",
            "[[ 5.291      -6.13      ]\n",
            " [ 0.         59.14347571]]\n",
            "vector independiente:\n",
            "[46.78       59.14347571]\n",
            "\n",
            "matriz triangular superior:\n",
            "[[ 5.291      -6.13      ]\n",
            " [ 0.         59.14347571]]\n",
            "vector independiente final:\n",
            "[46.78       59.14347571]\n",
            "\n",
            "la solución al sistema es: [10.  1.]\n"
          ]
        }
      ],
      "source": [
        "#ejecución de las funciones\n",
        "try:\n",
        "    A, b = datos()\n",
        "    solucion = pivoteo_parcial(A, b)\n",
        "    print(\"\")\n",
        "    print(\"la solución al sistema es:\", solucion)\n",
        "except Exception as e:\n",
        "    print(\"error:\", e)\n",
        "\n",
        "#0.003 59.14 59.17\n",
        "#5.291 -6.13 46.78"
      ]
    }
  ]
}