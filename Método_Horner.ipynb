{
  "nbformat": 4,
  "nbformat_minor": 0,
  "metadata": {
    "colab": {
      "provenance": [],
      "authorship_tag": "ABX9TyNP2DDYPR0EUS47lWRzQWZg",
      "include_colab_link": true
    },
    "kernelspec": {
      "name": "python3",
      "display_name": "Python 3"
    },
    "language_info": {
      "name": "python"
    }
  },
  "cells": [
    {
      "cell_type": "markdown",
      "metadata": {
        "id": "view-in-github",
        "colab_type": "text"
      },
      "source": [
        "<a href=\"https://colab.research.google.com/github/salmeronale/metodos-numericos/blob/main/M%C3%A9todo_Horner.ipynb\" target=\"_parent\"><img src=\"https://colab.research.google.com/assets/colab-badge.svg\" alt=\"Open In Colab\"/></a>"
      ]
    },
    {
      "cell_type": "code",
      "execution_count": 1,
      "metadata": {
        "id": "U5M5g2ObF5Cm"
      },
      "outputs": [],
      "source": [
        "#parámetros de entrada\n",
        "coefs = [2, 0, -3, 3, -4]  # Coeficientes del polinomio P(x) = x^3 - 6x^2 + 11x - 6\n",
        "x0 = -2                   # Valor de x0"
      ]
    },
    {
      "cell_type": "code",
      "source": [
        "def horner(coefs, x0):\n",
        "    # Grado del polinomio\n",
        "    n = len(coefs) - 1\n",
        "\n",
        "    # Paso 1: Inicializamos y y z con el coeficiente de mayor grado (an)\n",
        "    y = coefs[n]\n",
        "    z = coefs[n]\n",
        "\n",
        "    # Paso 2: Realizamos las operaciones para los coeficientes de n-1 hasta 1\n",
        "    for j in range(n-1, 0, -1):\n",
        "        y = x0 * y + coefs[j]\n",
        "        z = x0 * z + y\n",
        "\n",
        "    # Paso 3: Calculamos b0 (y final)\n",
        "    y = x0 * y + coefs[0]\n",
        "\n",
        "    # Paso 4: Retornamos el valor de P(x0) (y) y P'(x0) (z)\n",
        "    return y, z\n",
        "y, z = horner(coefs, x0)\n",
        "print(f\"P({x0}) = {y}\")\n",
        "print(f\"P'({x0}) = {z}\")"
      ],
      "metadata": {
        "colab": {
          "base_uri": "https://localhost:8080/"
        },
        "id": "QVX9SHHqGA8P",
        "outputId": "631cf9cf-5433-4b0a-87ac-10c58241989e"
      },
      "execution_count": 6,
      "outputs": [
        {
          "output_type": "stream",
          "name": "stdout",
          "text": [
            "P(-2) = -98\n",
            "P'(-2) = 176\n"
          ]
        }
      ]
    },
    {
      "cell_type": "code",
      "source": [
        "p0 = 1.0  #aproximación inicial\n",
        "TOL = 0.00001  #tolerancia\n",
        "N0 = 100  #número máximo de iteraciones\n",
        "# Ejecutamos el método de Horner\n",
        "#i=1\n",
        "#while i<N0:\n",
        " # y, z = horner(coefs, x0)\n",
        "  #error = x0-z\n",
        "  #if abs(error) > TOL:\n",
        "   # x0=z\n",
        "    #i+=1\n",
        "\n",
        "#print(f\"la raíz aproximada es: {z}\")"
      ],
      "metadata": {
        "id": "iyK_3tpsGGHX"
      },
      "execution_count": 3,
      "outputs": []
    },
    {
      "cell_type": "code",
      "source": [
        "print(f\"profe intenté ejecutar para que se repita la iteración pero se ha tardado mucho en ejecutar:(( y solo lo dejé así con el #\")"
      ],
      "metadata": {
        "colab": {
          "base_uri": "https://localhost:8080/"
        },
        "id": "xEaQeFElGcoz",
        "outputId": "d923f5fe-452e-4a79-f151-07ad05f64b83"
      },
      "execution_count": 7,
      "outputs": [
        {
          "output_type": "stream",
          "name": "stdout",
          "text": [
            "profe intenté ejecutar para que se repita la iteración pero se ha tardado mucho en ejecutar:(( y solo lo dejé así con el #\n"
          ]
        }
      ]
    }
  ]
}