{
  "nbformat": 4,
  "nbformat_minor": 0,
  "metadata": {
    "colab": {
      "provenance": [],
      "authorship_tag": "ABX9TyP45ewj5vf7P+yp6dOfdXWJ",
      "include_colab_link": true
    },
    "kernelspec": {
      "name": "python3",
      "display_name": "Python 3"
    },
    "language_info": {
      "name": "python"
    }
  },
  "cells": [
    {
      "cell_type": "markdown",
      "metadata": {
        "id": "view-in-github",
        "colab_type": "text"
      },
      "source": [
        "<a href=\"https://colab.research.google.com/github/salmeronale/metodos-numericos/blob/main/m%C3%A9todo_steffensen_corregido.ipynb\" target=\"_parent\"><img src=\"https://colab.research.google.com/assets/colab-badge.svg\" alt=\"Open In Colab\"/></a>"
      ]
    },
    {
      "cell_type": "code",
      "source": [
        "from math import * #la ecuación a resolver utiliza un coseno"
      ],
      "metadata": {
        "id": "PGNdH-wWmyF5"
      },
      "execution_count": 15,
      "outputs": []
    },
    {
      "cell_type": "code",
      "source": [
        "def f(x):\n",
        "  return cos(x) - 2*x + 3 #función original\n",
        "\n",
        "def g(x):\n",
        "  return (cos(x)+3)/2 #definir la función g(x) despejando el término \"-2x\""
      ],
      "metadata": {
        "id": "XgctX5ZEm2EF"
      },
      "execution_count": 16,
      "outputs": []
    },
    {
      "cell_type": "code",
      "source": [
        "#parámetros de entrada\n",
        "p0 = 1.0  #aproximación inicial\n",
        "TOL = 0.00001  #tolerancia\n",
        "N0 = 100  #número máximo de iteraciones"
      ],
      "metadata": {
        "id": "Qkq9u3jFm83C"
      },
      "execution_count": 17,
      "outputs": []
    },
    {
      "cell_type": "code",
      "execution_count": 18,
      "metadata": {
        "colab": {
          "base_uri": "https://localhost:8080/"
        },
        "id": "vHR27-srVnj1",
        "outputId": "c5c5e444-d1c1-4ef3-f541-2f22cc6662c7"
      },
      "outputs": [
        {
          "output_type": "stream",
          "name": "stdout",
          "text": [
            "    i            p0              p1              p2             Error     \n",
            "----------------------------------------------------------------------\n",
            "    1        1.00000000      1.77015115      1.40098151      0.52060210   \n",
            "    2        1.52060210      1.52508658      1.52284692      0.00299080   \n",
            "    3        1.52359290      1.52359295      1.52359292      0.00000004   \n",
            "la solución aproximada es: 1.5235929330974896 con 3 iteraciones\n"
          ]
        }
      ],
      "source": [
        "#imprimir el encabezado de la tabla donde se muestran las iteraciones\n",
        "print(f\"{'i':^10} {'p0':^15} {'p1':^15} {'p2':^15} {'Error':^15}\")\n",
        "print(\"-\" * 70)\n",
        "\n",
        "#definir una función que ejecute el método steffensen\n",
        "def steffensen(g, p0, TOL, N0):\n",
        "    #paso 1: iniciar el contador de iteraciones\n",
        "    i = 1\n",
        "\n",
        "    #paso 2: ciclo while para las iteraciones\n",
        "    while i <= N0:\n",
        "        #paso 3: calcular p1 y p2 con p0 dado anteriormente\n",
        "        p1 = g(p0)\n",
        "        p2 = g(p1)\n",
        "\n",
        "        #calcular p usando la fórmula de Steffensen\n",
        "        p = p0 - (p1 - p0)**2 / (p2 - 2 * p1 + p0)\n",
        "\n",
        "        #paso 4: calcular el error\n",
        "        error=abs(p - p0)\n",
        "\n",
        "        #imprimir la fila correspondiente a la iteración\n",
        "        print(f\"{i:^10} {p0:^15.8f} {p1:^15.8f} {p2:^15.8f} {error:^15.8f}\")\n",
        "\n",
        "        #verificar si la aproximación es la deseada\n",
        "        if  error < TOL:\n",
        "            return p, i\n",
        "\n",
        "        #paso 5: si aún no es el error solicitado, aumentar el contador de iteraciones\n",
        "        i += 1\n",
        "\n",
        "        #paso 6: actualizar p0 para la siguiente iteración\n",
        "        p0 = p\n",
        "\n",
        "    #paso 7: si no funcionó el método, imprimir un mensaje de error\n",
        "    return f'el método falló después de {N0} iteraciones.', None\n",
        "\n",
        "#ejecutar el método de Steffensen\n",
        "resultado, iteraciones = steffensen(g, p0, TOL, N0)\n",
        "print(f'la solución aproximada es: {resultado} con {iteraciones} iteraciones')\n",
        "\n"
      ]
    },
    {
      "cell_type": "code",
      "source": [],
      "metadata": {
        "id": "jp2ungpplKGl"
      },
      "execution_count": null,
      "outputs": []
    }
  ]
}