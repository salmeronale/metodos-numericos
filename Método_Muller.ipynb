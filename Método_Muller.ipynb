{
  "nbformat": 4,
  "nbformat_minor": 0,
  "metadata": {
    "colab": {
      "provenance": [],
      "authorship_tag": "ABX9TyOHiQTNgnuXvAtAJi7NdCeI",
      "include_colab_link": true
    },
    "kernelspec": {
      "name": "python3",
      "display_name": "Python 3"
    },
    "language_info": {
      "name": "python"
    }
  },
  "cells": [
    {
      "cell_type": "markdown",
      "metadata": {
        "id": "view-in-github",
        "colab_type": "text"
      },
      "source": [
        "<a href=\"https://colab.research.google.com/github/salmeronale/metodos-numericos/blob/main/M%C3%A9todo_Muller.ipynb\" target=\"_parent\"><img src=\"https://colab.research.google.com/assets/colab-badge.svg\" alt=\"Open In Colab\"/></a>"
      ]
    },
    {
      "cell_type": "code",
      "source": [
        "import cmath  #para realizar operaciones con complejos"
      ],
      "metadata": {
        "id": "FUihlkhBppJr"
      },
      "execution_count": 44,
      "outputs": []
    },
    {
      "cell_type": "code",
      "source": [
        "#definir una función con raíces complejas\n",
        "def f(x):\n",
        "    return x**4 +3*x**2 + 4"
      ],
      "metadata": {
        "id": "7Kdl0B3bpwGJ"
      },
      "execution_count": 45,
      "outputs": []
    },
    {
      "cell_type": "code",
      "source": [
        "#parámetros iniciales\n",
        "p0 = -1\n",
        "p1 = 0\n",
        "p2 = 1\n",
        "TOL = 0.00005\n",
        "N0 = 100"
      ],
      "metadata": {
        "id": "giDtGonSqeFL"
      },
      "execution_count": 46,
      "outputs": []
    },
    {
      "cell_type": "code",
      "source": [
        "#definir el algoritmo de Muller\n",
        "\n",
        "def muller(f, p0, p1, p2, TOL, N0):\n",
        "    #definir los valores\n",
        "    h1 = p1 - p0\n",
        "    h2 = p2 - p1\n",
        "    δ1 = (f(p1) - f(p0)) / h1\n",
        "    δ2 = (f(p2) - f(p1)) / h2\n",
        "    d = (δ2 - δ1) / (h2 + h1)\n",
        "    i = 1\n",
        "\n",
        "    print(f\"{'i':^10} {'p':^25} {'g(p)':^25} {'error':^15}\")\n",
        "    print(\"-\" * 90)   #imprimir encabezado de la tabla\n",
        "\n",
        "    while i <= N0: #hacer las iteraciones mientras no supere el máximo\n",
        "        b = δ2 + h2 * d\n",
        "        D = cmath.sqrt(b**2 - 4 * f(p2) * d)\n",
        "\n",
        "        if abs(b - D) < abs(b + D):\n",
        "            E = b + D\n",
        "        else:\n",
        "            E = b - D\n",
        "\n",
        "        h = -2 * f(p2) / E\n",
        "        p = p2 + h\n",
        "\n",
        "        print(f\"{i:^10} {p0:^25.8f} {p:^25.8f} {h:^15.8f}\") #imprimir la iteración\n",
        "\n",
        "        if abs(h) < TOL:\n",
        "            return p  # solución aproximada encontrada\n",
        "\n",
        "        #actualizar los valores\n",
        "        p0 = p1\n",
        "        p1 = p2\n",
        "        p2 = p\n",
        "        h1 = p1 - p0\n",
        "        h2 = p2 - p1\n",
        "        δ1 = (f(p1) - f(p0)) / h1\n",
        "        δ2 = (f(p2) - f(p1)) / h2\n",
        "        d = (δ2 - δ1) / (h2 + h1)\n",
        "        i += 1\n",
        "\n",
        "\n",
        "    return f\"el método falló después de {N0} iteraciones.\"\n",
        "\n",
        "#llamar a la función del médodo\n",
        "resultado = muller(f, p0, p1, p2, TOL, N0)\n",
        "print(\"\")\n",
        "print(\"la raíz es:\", resultado)"
      ],
      "metadata": {
        "colab": {
          "base_uri": "https://localhost:8080/"
        },
        "id": "eRHkph8Ys1SQ",
        "outputId": "286617a0-5160-4ad2-cbb2-29fbdfd3b7e3"
      },
      "execution_count": 47,
      "outputs": [
        {
          "output_type": "stream",
          "name": "stdout",
          "text": [
            "    i                  p                       g(p)                 error     \n",
            "------------------------------------------------------------------------------------------\n",
            "    1             -1.00000000         0.00000000-1.00000000j   -1.00000000-1.00000000j\n",
            "    2             0.00000000          0.06062466-1.32062495j   0.06062466-0.32062495j\n",
            "    3             1.00000000          0.53065200-1.71104729j   0.47002734-0.39042234j\n",
            "    4       0.00000000-1.00000000j    0.43901925-1.29259955j   -0.09163274+0.41844774j\n",
            "    5       0.06062466-1.32062495j    0.49277213-1.31930904j   0.05375288-0.02670949j\n",
            "    6       0.53065200-1.71104729j    0.49989070-1.32274923j   0.00711857-0.00344019j\n",
            "    7       0.43901925-1.29259955j    0.50000007-1.32287567j   0.00010937-0.00012644j\n",
            "    8       0.49277213-1.31930904j    0.50000000-1.32287566j   -0.00000007+0.00000001j\n",
            "\n",
            "la raíz es: (0.49999999999993017-1.3228756555322978j)\n"
          ]
        }
      ]
    }
  ]
}