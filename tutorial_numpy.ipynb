{
  "nbformat": 4,
  "nbformat_minor": 0,
  "metadata": {
    "colab": {
      "provenance": [],
      "authorship_tag": "ABX9TyMIsDBrBrJkAzXgkyjDIcS/",
      "include_colab_link": true
    },
    "kernelspec": {
      "name": "python3",
      "display_name": "Python 3"
    },
    "language_info": {
      "name": "python"
    }
  },
  "cells": [
    {
      "cell_type": "markdown",
      "metadata": {
        "id": "view-in-github",
        "colab_type": "text"
      },
      "source": [
        "<a href=\"https://colab.research.google.com/github/salmeronale/metodos-numericos/blob/main/tutorial_numpy.ipynb\" target=\"_parent\"><img src=\"https://colab.research.google.com/assets/colab-badge.svg\" alt=\"Open In Colab\"/></a>"
      ]
    },
    {
      "cell_type": "code",
      "execution_count": null,
      "metadata": {
        "id": "2CRcZgE0rtto"
      },
      "outputs": [],
      "source": [
        "import numpy as np"
      ]
    },
    {
      "cell_type": "code",
      "source": [
        "#creación de arreglos\n",
        "# Arreglo a partir de una lista\n",
        "arr = np.array([1, 2, 3, 4, 5])\n",
        "print(\"Array:\", arr)\n",
        "\n",
        "# Arreglo con ceros\n",
        "zeros = np.zeros(5)\n",
        "print(\"Zeros:\", zeros)\n",
        "\n",
        "# Arreglo con unos\n",
        "ones = np.ones(5)\n",
        "print(\"Ones:\", ones)\n",
        "\n",
        "# Arreglo con valores aleatorios\n",
        "randoms = np.random.random(5)\n",
        "print(\"Randoms:\", randoms)\n",
        "\n",
        "# Arreglo con valores consecutivos en un rango\n",
        "range_array = np.arange(0, 10, 2)\n",
        "print(\"Range Array:\", range_array)\n",
        "\n",
        "# Arreglo con valores espaciados uniformemente\n",
        "linspace_array = np.linspace(0, 1, 5)\n",
        "print(\"Linspace Array:\", linspace_array)\n"
      ],
      "metadata": {
        "colab": {
          "base_uri": "https://localhost:8080/"
        },
        "id": "vtTgUIN_sC7g",
        "outputId": "4b257fad-309a-45d9-e8bb-1a0ecc7f007a"
      },
      "execution_count": null,
      "outputs": [
        {
          "output_type": "stream",
          "name": "stdout",
          "text": [
            "Array: [1 2 3 4 5]\n",
            "Zeros: [0. 0. 0. 0. 0.]\n",
            "Ones: [1. 1. 1. 1. 1.]\n",
            "Randoms: [0.77803755 0.3255587  0.52926306 0.13958705 0.88438144]\n",
            "Range Array: [0 2 4 6 8]\n",
            "Linspace Array: [0.   0.25 0.5  0.75 1.  ]\n"
          ]
        }
      ]
    },
    {
      "cell_type": "code",
      "source": [
        "#propiedades de los arreglos\n",
        "\n",
        "# Dimensión de un arreglo\n",
        "print(\"Dimensión:\", arr.ndim)\n",
        "\n",
        "# Tamaño del arreglo\n",
        "print(\"Tamaño:\", arr.size)\n",
        "\n",
        "# Forma del arreglo\n",
        "print(\"Forma:\", arr.shape)\n",
        "\n",
        "# Tipo de datos del arreglo\n",
        "print(\"Tipo de datos:\", arr.dtype)\n"
      ],
      "metadata": {
        "colab": {
          "base_uri": "https://localhost:8080/"
        },
        "id": "5otsvzP1sMGi",
        "outputId": "1d6fd4c5-fa64-42a7-f89c-06db4483e3f4"
      },
      "execution_count": null,
      "outputs": [
        {
          "output_type": "stream",
          "name": "stdout",
          "text": [
            "Dimensión: 1\n",
            "Tamaño: 5\n",
            "Forma: (5,)\n",
            "Tipo de datos: int64\n"
          ]
        }
      ]
    },
    {
      "cell_type": "code",
      "source": [
        "#operaciones aritméticas\n",
        "\n",
        "# Suma y resta\n",
        "arr2 = np.array([10, 20, 30, 40, 50])\n",
        "print(\"Suma:\", arr + arr2)\n",
        "print(\"Resta:\", arr2 - arr)\n",
        "\n",
        "# Multiplicación y división\n",
        "print(\"Multiplicación:\", arr * arr2)\n",
        "print(\"División:\", arr2 / arr)\n",
        "\n",
        "# Potencia\n",
        "print(\"Potencia:\", arr ** 2)\n"
      ],
      "metadata": {
        "colab": {
          "base_uri": "https://localhost:8080/"
        },
        "id": "jcO1M3YusSIo",
        "outputId": "3d3d4048-45c2-4418-8ff0-0db2e1fb3b27"
      },
      "execution_count": null,
      "outputs": [
        {
          "output_type": "stream",
          "name": "stdout",
          "text": [
            "Suma: [11 22 33 44 55]\n",
            "Resta: [ 9 18 27 36 45]\n",
            "Multiplicación: [ 10  40  90 160 250]\n",
            "División: [10. 10. 10. 10. 10.]\n",
            "Potencia: [ 1  4  9 16 25]\n"
          ]
        }
      ]
    },
    {
      "cell_type": "code",
      "source": [
        "#funciones matemáticas\n",
        "\n",
        "# Seno y coseno\n",
        "print(\"Seno:\", np.sin(arr))\n",
        "print(\"Coseno:\", np.cos(arr))\n",
        "\n",
        "# Exponencial\n",
        "print(\"Exponencial:\", np.exp(arr))\n",
        "\n",
        "# Logaritmo\n",
        "print(\"Logaritmo:\", np.log(arr))\n",
        "\n",
        "# Raíz cuadrada\n",
        "print(\"Raíz cuadrada:\", np.sqrt(arr))\n"
      ],
      "metadata": {
        "colab": {
          "base_uri": "https://localhost:8080/"
        },
        "id": "6MX5pEojsbMm",
        "outputId": "ab8452f1-6d80-43b6-ffd4-eae5d03047de"
      },
      "execution_count": null,
      "outputs": [
        {
          "output_type": "stream",
          "name": "stdout",
          "text": [
            "Seno: [ 0.84147098  0.90929743  0.14112001 -0.7568025  -0.95892427]\n",
            "Coseno: [ 0.54030231 -0.41614684 -0.9899925  -0.65364362  0.28366219]\n",
            "Exponencial: [  2.71828183   7.3890561   20.08553692  54.59815003 148.4131591 ]\n",
            "Logaritmo: [0.         0.69314718 1.09861229 1.38629436 1.60943791]\n",
            "Raíz cuadrada: [1.         1.41421356 1.73205081 2.         2.23606798]\n"
          ]
        }
      ]
    },
    {
      "cell_type": "code",
      "source": [
        "#funciones estadísticas\n",
        "\n",
        "# Mínimo, máximo y media\n",
        "print(\"Mínimo:\", arr.min())\n",
        "print(\"Máximo:\", arr.max())\n",
        "print(\"Media:\", arr.mean())\n",
        "\n",
        "# Desviación estándar y varianza\n",
        "print(\"Desviación estándar:\", arr.std())\n",
        "print(\"Varianza:\", arr.var())\n",
        "\n",
        "# Suma acumulada\n",
        "print(\"Suma acumulada:\", arr.cumsum())\n"
      ],
      "metadata": {
        "colab": {
          "base_uri": "https://localhost:8080/"
        },
        "id": "GDMu7AWFsiQK",
        "outputId": "673e34e5-db0b-4101-ec1b-ef8cdbb713ab"
      },
      "execution_count": null,
      "outputs": [
        {
          "output_type": "stream",
          "name": "stdout",
          "text": [
            "Mínimo: 1\n",
            "Máximo: 5\n",
            "Media: 3.0\n",
            "Desviación estándar: 1.4142135623730951\n",
            "Varianza: 2.0\n",
            "Suma acumulada: [ 1  3  6 10 15]\n"
          ]
        }
      ]
    },
    {
      "cell_type": "code",
      "source": [
        "#manipulación de arreglos\n",
        "\n",
        "# Cambiar la forma del arreglo\n",
        "reshaped_array = arr.reshape((1, 5))\n",
        "print(\"Reshape a 1x5:\", reshaped_array)\n",
        "\n",
        "# Transpuesta\n",
        "transposed_array = reshaped_array.T\n",
        "print(\"Transpuesta:\", transposed_array)\n",
        "\n",
        "# Concatenar arreglos\n",
        "concatenated = np.concatenate((arr, arr2))\n",
        "print(\"Concatenado:\", concatenated)\n",
        "\n",
        "# Dividir arreglo\n",
        "split_array = np.array_split(arr, 2)\n",
        "print(\"Dividido:\", split_array)\n"
      ],
      "metadata": {
        "colab": {
          "base_uri": "https://localhost:8080/"
        },
        "id": "tVdeIsYgstPO",
        "outputId": "fccc5393-fc27-4dde-8de5-6484bd35ac82"
      },
      "execution_count": null,
      "outputs": [
        {
          "output_type": "stream",
          "name": "stdout",
          "text": [
            "Reshape a 1x5: [[1 2 3 4 5]]\n",
            "Transpuesta: [[1]\n",
            " [2]\n",
            " [3]\n",
            " [4]\n",
            " [5]]\n",
            "Concatenado: [ 1  2  3  4  5 10 20 30 40 50]\n",
            "Dividido: [array([1, 2, 3]), array([4, 5])]\n"
          ]
        }
      ]
    },
    {
      "cell_type": "code",
      "source": [
        "#índice\n",
        "\n",
        "# Indexación simple\n",
        "print(\"Primer elemento:\", arr[0])\n",
        "\n",
        "# Slicing\n",
        "print(\"Primeros tres elementos:\", arr[:3])\n",
        "\n",
        "# Indexación booleana\n",
        "print(\"Elementos mayores que 2:\", arr[arr > 2])\n"
      ],
      "metadata": {
        "colab": {
          "base_uri": "https://localhost:8080/"
        },
        "id": "_xPtOKVdtHcK",
        "outputId": "4acd877b-933a-4aee-d887-4b5a65b9fb88"
      },
      "execution_count": null,
      "outputs": [
        {
          "output_type": "stream",
          "name": "stdout",
          "text": [
            "Primer elemento: 1\n",
            "Primeros tres elementos: [1 2 3]\n",
            "Elementos mayores que 2: [3 4 5]\n"
          ]
        }
      ]
    },
    {
      "cell_type": "code",
      "source": [
        "#algebra lineal\n",
        "\n",
        "# Producto punto\n",
        "vector1 = np.array([1, 2])\n",
        "vector2 = np.array([3, 4])\n",
        "dot_product = np.dot(vector1, vector2)\n",
        "print(\"Producto punto:\", dot_product)\n",
        "\n",
        "# Multiplicación de matrices\n",
        "matrix1 = np.array([[1, 2], [3, 4]])\n",
        "matrix2 = np.array([[5, 6], [7, 8]])\n",
        "matrix_product = np.matmul(matrix1, matrix2)\n",
        "print(\"Multiplicación de matrices:\", matrix_product)\n",
        "\n",
        "# Determinante\n",
        "det = np.linalg.det(matrix1)\n",
        "print(\"Determinante:\", det)\n",
        "\n",
        "# Inversa de una matriz\n",
        "inverse = np.linalg.inv(matrix1)\n",
        "print(\"Inversa:\", inverse)\n",
        "\n",
        "# Valores y vectores propios\n",
        "eigenvalues, eigenvectors = np.linalg.eig(matrix1)\n",
        "print(\"Valores propios:\", eigenvalues)\n",
        "print(\"Vectores propios:\", eigenvectors)\n"
      ],
      "metadata": {
        "colab": {
          "base_uri": "https://localhost:8080/"
        },
        "id": "z7ldrdqXtLCq",
        "outputId": "bbaf64bd-d49c-4e68-ba2b-29a9694668de"
      },
      "execution_count": null,
      "outputs": [
        {
          "output_type": "stream",
          "name": "stdout",
          "text": [
            "Producto punto: 11\n",
            "Multiplicación de matrices: [[19 22]\n",
            " [43 50]]\n",
            "Determinante: -2.0000000000000004\n",
            "Inversa: [[-2.   1. ]\n",
            " [ 1.5 -0.5]]\n",
            "Valores propios: [-0.37228132  5.37228132]\n",
            "Vectores propios: [[-0.82456484 -0.41597356]\n",
            " [ 0.56576746 -0.90937671]]\n"
          ]
        }
      ]
    },
    {
      "cell_type": "code",
      "source": [
        "#funciones de generación de números aleatorios\n",
        "\n",
        "# Número aleatorio entre 0 y 1\n",
        "random_num = np.random.rand()\n",
        "print(\"Número aleatorio:\", random_num)\n",
        "\n",
        "# Números aleatorios en un arreglo\n",
        "random_array = np.random.rand(3, 3)\n",
        "print(\"Arreglo aleatorio 3x3:\", random_array)\n",
        "\n",
        "# Enteros aleatorios\n",
        "random_integers = np.random.randint(0, 10, (3, 3))\n",
        "print(\"Enteros aleatorios 3x3:\", random_integers)\n",
        "\n",
        "# Distribución normal\n",
        "normal_dist = np.random.normal(0, 1, 5)\n",
        "print(\"Distribución normal:\", normal_dist)\n"
      ],
      "metadata": {
        "colab": {
          "base_uri": "https://localhost:8080/"
        },
        "id": "HBDrwg74tP0G",
        "outputId": "f29eb370-091f-409a-a474-43feff29e5c4"
      },
      "execution_count": null,
      "outputs": [
        {
          "output_type": "stream",
          "name": "stdout",
          "text": [
            "Número aleatorio: 0.2730568747356339\n",
            "Arreglo aleatorio 3x3: [[0.71376281 0.9603112  0.62405059]\n",
            " [0.45458878 0.29720597 0.16963762]\n",
            " [0.12962502 0.68885491 0.26364231]]\n",
            "Enteros aleatorios 3x3: [[7 8 8]\n",
            " [3 3 5]\n",
            " [9 2 2]]\n",
            "Distribución normal: [-1.66709208 -0.62732388  0.78705503 -2.22549722  0.9801386 ]\n"
          ]
        }
      ]
    },
    {
      "cell_type": "code",
      "source": [
        "#EJEMPLO DE USO DE LA LIBRERIA PARA INTERPOLACIÓN\n",
        "\n",
        "# Puntos conocidos (x, y)\n",
        "x = np.array([0, 1, 2, 3, 4, 5])\n",
        "y = np.array([0, 1, 4, 9, 16, 25])\n",
        "\n",
        "# Puntos de interpolación (por ejemplo, en un rango más fino)\n",
        "x_interp = np.linspace(0, 5, 50)\n",
        "\n",
        "from scipy.interpolate import interp1d\n",
        "import matplotlib.pyplot as plt\n",
        "\n",
        "# Crear una función de interpolación\n",
        "interpolacion = interp1d(x, y, kind='cubic')  # kind='cubic' para interpolación cúbica\n",
        "\n",
        "# Calcular los valores interpolados\n",
        "y_interp = interpolacion(x_interp)\n",
        "\n",
        "# Graficar los puntos originales y los interpolados\n",
        "plt.plot(x, y, 'o', label=\"Puntos originales\")\n",
        "plt.plot(x_interp, y_interp, '-', label=\"Interpolación cúbica\")\n",
        "plt.legend()\n",
        "plt.show()\n",
        "\n"
      ],
      "metadata": {
        "colab": {
          "base_uri": "https://localhost:8080/",
          "height": 255
        },
        "id": "8msAuzb2tdmp",
        "outputId": "d38a32fe-51ec-4531-c79f-4614ba666ade"
      },
      "execution_count": null,
      "outputs": [
        {
          "output_type": "display_data",
          "data": {
            "text/plain": [
              "<Figure size 640x480 with 1 Axes>"
            ],
            "image/png": "[encoded data removed]"
          },
          "metadata": {}
        }
      ]
    }
  ]
}